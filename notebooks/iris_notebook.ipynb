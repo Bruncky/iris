{
 "cells": [
  {
   "cell_type": "markdown",
   "id": "4055561a-bd44-47ca-90c0-a8906d7a50a3",
   "metadata": {},
   "source": [
    "## Imports"
   ]
  },
  {
   "cell_type": "code",
   "execution_count": 1,
   "id": "0be2c288-051c-49ef-825c-4fa61a85cb5f",
   "metadata": {},
   "outputs": [],
   "source": [
    "import mlflow\n",
    "\n",
    "from  mlflow.tracking import MlflowClient"
   ]
  },
  {
   "cell_type": "markdown",
   "id": "c2907219-96a7-47d8-85cc-ea1f31dd4d6b",
   "metadata": {},
   "source": [
    "# Saving Experiments in MLflow"
   ]
  },
  {
   "cell_type": "markdown",
   "id": "29235a98-1fcb-4b8d-8c0b-5b0b063cf485",
   "metadata": {},
   "source": [
    "## Locally"
   ]
  },
  {
   "cell_type": "code",
   "execution_count": 2,
   "id": "4dd24cd5-4391-437b-86a3-5975c91df555",
   "metadata": {},
   "outputs": [],
   "source": [
    "EXPERIMENT_NAME = \"TaxiFareExperiment\"\n",
    "\n",
    "client = MlflowClient()\n",
    "experiment_id = client.create_experiment(EXPERIMENT_NAME)\n",
    "\n",
    "for model in [\"linear\", \"Randomforest\"]:\n",
    "    run = client.create_run(experiment_id)\n",
    "    client.log_metric(run.info.run_id, \"rmse\", 4.5)\n",
    "    client.log_param(run.info.run_id, \"model\", model)"
   ]
  },
  {
   "cell_type": "markdown",
   "id": "3521bfa5-5c7c-4bcd-bed7-607dc47a78ec",
   "metadata": {},
   "source": [
    "## On  a hosted server"
   ]
  },
  {
   "cell_type": "code",
   "execution_count": 4,
   "id": "1b37ac47-c0e6-4780-82d6-63b73a8122ea",
   "metadata": {},
   "outputs": [],
   "source": [
    "mlflow.set_tracking_uri(\"https://mlflow.lewagon.co/\")\n",
    "\n",
    "# Please keep this format in mind!\n",
    "# [Country Code] [City] [Username] [Model Name + Version]\n",
    "EXPERIMENT_NAME = \"[DE] [Munich] [bruncky] TaxiFareModel v1\"\n",
    "\n",
    "client = MlflowClient()\n",
    "experiment_id = client.create_experiment(EXPERIMENT_NAME)\n",
    "\n",
    "for model in [\"linear\", \"Randomforest\"]:\n",
    "    run = client.create_run(experiment_id)\n",
    "    client.log_metric(run.info.run_id, \"rmse\", 4.5)\n",
    "    client.log_param(run.info.run_id, \"estimator\", model)"
   ]
  },
  {
   "cell_type": "markdown",
   "id": "a1173479-32bc-4060-8418-ec4d7b2a9b3b",
   "metadata": {},
   "source": [
    "# Memoized Properties"
   ]
  },
  {
   "cell_type": "markdown",
   "id": "e86d9d9e-eab2-4cad-b639-5e858718a9ba",
   "metadata": {},
   "source": [
    "## Non-memoized example"
   ]
  },
  {
   "cell_type": "code",
   "execution_count": 5,
   "id": "ccb8a7bc-19b3-438f-83f1-5e2c8430ed8d",
   "metadata": {},
   "outputs": [
    {
     "name": "stdout",
     "output_type": "stream",
     "text": [
      "non memoized calls differ:\n",
      "0.4712722606306482\n",
      "0.6909594875483279\n",
      "non memoized calls differ:\n",
      "0.5557565506806725\n",
      "0.6019482900399049\n"
     ]
    }
   ],
   "source": [
    "from memoized_property import memoized_property\n",
    "from random import random\n",
    "\n",
    "class Car():\n",
    "    def get_random_value(self):\n",
    "        return random()\n",
    "\n",
    "car = Car()\n",
    "print('non memoized calls differ:')\n",
    "print(car.get_random_value())\n",
    "print(car.get_random_value())\n",
    "\n",
    "car2 = Car()\n",
    "print('non memoized calls differ:')\n",
    "print(car2.get_random_value())\n",
    "print(car2.get_random_value())"
   ]
  },
  {
   "cell_type": "markdown",
   "id": "32e38ed8-8637-4b97-9976-8439213de283",
   "metadata": {},
   "source": [
    "## Memoized example"
   ]
  },
  {
   "cell_type": "code",
   "execution_count": 6,
   "id": "259f1319-175e-4909-bd35-adabb21dbae3",
   "metadata": {},
   "outputs": [
    {
     "name": "stdout",
     "output_type": "stream",
     "text": [
      "memoized property return the same value:\n",
      "0.5327645147532593\n",
      "0.5327645147532593\n",
      "memoized property return the same value:\n",
      "0.4820906094223698\n",
      "0.4820906094223698\n"
     ]
    }
   ],
   "source": [
    "class MemoizedCar():\n",
    "    @memoized_property\n",
    "    def get_random_value(self):\n",
    "        return random()\n",
    "\n",
    "car = MemoizedCar()\n",
    "print('memoized property return the same value:')\n",
    "print(car.get_random_value)\n",
    "print(car.get_random_value)\n",
    "\n",
    "car2 = MemoizedCar()\n",
    "print('memoized property return the same value:')\n",
    "print(car2.get_random_value)\n",
    "print(car2.get_random_value)"
   ]
  },
  {
   "cell_type": "markdown",
   "id": "afe358e9-79fc-414d-a1fe-b25d4b16e241",
   "metadata": {},
   "source": [
    "## Manually memoized example"
   ]
  },
  {
   "cell_type": "code",
   "execution_count": 7,
   "id": "7232002c-b5d8-48c7-a502-cc2befdfaab2",
   "metadata": {},
   "outputs": [
    {
     "name": "stdout",
     "output_type": "stream",
     "text": [
      "memoized property return the same value:\n",
      "0.022371228337695226\n",
      "0.022371228337695226\n",
      "memoized property return the same value:\n",
      "0.9431317708212704\n",
      "0.9431317708212704\n"
     ]
    }
   ],
   "source": [
    "class ManualMemoizedCar():\n",
    "\n",
    "    def __init__(self):\n",
    "        self.random = None\n",
    "\n",
    "    def get_random_value(self):\n",
    "        #if not hasattr(self, 'random'):\n",
    "        if self.random == None:\n",
    "            self.random = random()\n",
    "        return self.random\n",
    "\n",
    "car = ManualMemoizedCar()\n",
    "print('memoized property return the same value:')\n",
    "print(car.get_random_value())\n",
    "print(car.get_random_value())\n",
    "\n",
    "car2 = ManualMemoizedCar()\n",
    "print('memoized property return the same value:')\n",
    "print(car2.get_random_value())\n",
    "print(car2.get_random_value())"
   ]
  }
 ],
 "metadata": {
  "kernelspec": {
   "display_name": "Python 3.8.6 64-bit ('lewagon': pyenv)",
   "language": "python",
   "name": "python386jvsc74a57bd0764331e89eea04404a67fe61d4344f28263133eafa9395865250d01609d576f3"
  },
  "language_info": {
   "codemirror_mode": {
    "name": "ipython",
    "version": 3
   },
   "file_extension": ".py",
   "mimetype": "text/x-python",
   "name": "python",
   "nbconvert_exporter": "python",
   "pygments_lexer": "ipython3",
   "version": "3.8.6"
  },
  "toc-autonumbering": true
 },
 "nbformat": 4,
 "nbformat_minor": 5
}
